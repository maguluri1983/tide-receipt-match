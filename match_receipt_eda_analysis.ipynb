{
 "cells": [
  {
   "cell_type": "markdown",
   "metadata": {},
   "source": [
    "Import libraries"
   ]
  },
  {
   "cell_type": "code",
   "execution_count": 1,
   "metadata": {},
   "outputs": [
    {
     "name": "stdout",
     "output_type": "stream",
     "text": [
      "CPU times: user 1.26 s, sys: 254 ms, total: 1.52 s\n",
      "Wall time: 1.01 s\n"
     ]
    }
   ],
   "source": [
    "%%time\n",
    "import warnings, pandas as pd, numpy as np, seaborn as sns, matplotlib.pyplot as plt, pickle\n",
    "from sklearn.model_selection import train_test_split\n",
    "from os import path\n",
    "from sklearn.preprocessing import StandardScaler, MinMaxScaler\n",
    "from sklearn.feature_selection import SelectKBest, chi2, f_classif\n",
    "from sklearn.metrics import roc_auc_score\n",
    "%matplotlib inline\n",
    "from pylab import rcParams\n",
    "from sklearn.metrics import f1_score, confusion_matrix, classification_report, accuracy_score, \\\n",
    "                            balanced_accuracy_score, roc_auc_score\n",
    "from xgboost import XGBClassifier\n",
    "from sklearn.ensemble import RandomForestClassifier, AdaBoostClassifier\n",
    "from sklearn.linear_model import LogisticRegression\n",
    "from sklearn.svm import SVC\n",
    "from sklearn.naive_bayes import GaussianNB\n",
    "from sklearn.neural_network import MLPClassifier\n",
    "warnings.filterwarnings(\"ignore\")"
   ]
  },
  {
   "cell_type": "code",
   "execution_count": 2,
   "metadata": {},
   "outputs": [],
   "source": [
    "def evaluate_models(train_df1,test_df1,outcome_feature):\n",
    "    X_train  = train_df1.loc[:,train_df1.columns != outcome_feature]\n",
    "    y_train  = train_df1.loc[:,train_df1.columns == outcome_feature]\n",
    "    X_test   = test_df1.loc[:,test_df1.columns != outcome_feature]\n",
    "    y_test   = test_df1.loc[:,test_df1.columns == outcome_feature]\n",
    "\n",
    "    seed = 1234\n",
    "    names = ['Logistic','RandomForest','XGBoost','NaiveBayes','AdaBoost','MLP']\n",
    "    classifiers = [LogisticRegression(random_state=seed, n_jobs=-1),\n",
    "                   RandomForestClassifier(max_depth=10,n_estimators=100,random_state=seed,n_jobs=-1),\n",
    "                   XGBClassifier(max_depth=10,random_state=seed,n_estimators=100,n_jobs=-1),\n",
    "                   GaussianNB(),\n",
    "                   AdaBoostClassifier(random_state=seed),\n",
    "                   MLPClassifier(alpha=1, random_state=seed, max_iter=1000)\n",
    "                  ]\n",
    "    results_df, predictions_df, predict_proba_df = pd.DataFrame(), pd.DataFrame(), pd.DataFrame()\n",
    "    for name, clf in zip(names,classifiers):\n",
    "        clf.fit(X_train, y_train)\n",
    "        predictions_df[name] = clf.predict(X_test)\n",
    "        predict_proba_df[name] = clf.predict_proba(X_test)[:,1]\n",
    "    for name in names:\n",
    "        temp_metrics = [f1_score(y_test,predictions_df[name],average=None).tolist()[1]]\n",
    "        temp_metrics.append(balanced_accuracy_score(y_test,predictions_df[name]))\n",
    "        temp_metrics.append(roc_auc_score(y_test,predict_proba_df[name]))\n",
    "        results_df[name] = temp_metrics\n",
    "    results_df = results_df.transpose().reset_index()    \n",
    "    results_df = results_df.rename(columns={'index':'Model', 0:'Matching - F1', 1: 'Balanced Accuracy',\n",
    "                                             2: 'ROC_AUC_SCORE'})\n",
    "    results_df = results_df.sort_values(by=['Matching - F1'],ascending=False)\n",
    "    return results_df\n",
    "\n",
    "def perform_selectkbest(in_df,outcome_feature,test_type):\n",
    "    X = in_df.loc[:,in_df.columns != outcome_feature]\n",
    "    y = in_df.loc[:,in_df.columns == outcome_feature]\n",
    "    if test_type == 'chi2':\n",
    "        kbest = SelectKBest(score_func=chi2, k=10)\n",
    "    else:\n",
    "        kbest = SelectKBest(score_func=f_classif, k=10)\n",
    "    fit = kbest.fit(X,y)\n",
    "    features = fit.transform(X)\n",
    "        \n",
    "    temp_df = pd.DataFrame()\n",
    "    temp_df['FeatureName'] = X.columns[fit.get_support()].to_list()\n",
    "    temp_df['FeatureImportance'] = list(fit.scores_[fit.get_support()])\n",
    "    temp_df.sort_values(by=['FeatureImportance'],ascending=False,inplace=True)\n",
    "    return temp_df\n",
    "\n",
    "def FeatureEngineering(temp_df):\n",
    "    #Match Feature\n",
    "    temp_df['Match'] = temp_df.apply(lambda row: 1 \\\n",
    "                                                if row['matched_transaction_id'] == row['feature_transaction_id'] \\\n",
    "                                                else 0, \\\n",
    "                                                axis = 1)\n",
    "    #CompanyID OneHotEncoding\n",
    "    temp_df = pd.concat([temp_df,pd.get_dummies(temp_df['company_id'],\n",
    "                                                prefix='compid')],axis=1).drop('company_id',axis=1)\n",
    "    \n",
    "    #ReceiptMatchesCount\n",
    "    receipt_counts = temp_df.groupby(['receipt_id']).size().to_dict()\n",
    "    temp_df['ReceiptMatchesCount'] = temp_df.apply(lambda row: receipt_counts[row['receipt_id']],axis=1)\n",
    "    \n",
    "    feature_list = ['DateMappingMatch','AmountMappingMatch','DescriptionMatch',\n",
    "                    'DifferentPredictedTime', 'TimeMappingMatch', 'PredictedNameMatch', \n",
    "                    'ShortNameMatch', 'DifferentPredictedDate', 'PredictedAmountMatch', 'PredictedTimeCloseMatch']\n",
    "    \n",
    "    #StatisticsFeatures\n",
    "    mean_df   = temp_df.groupby(['receipt_id']).mean()\n",
    "    median_df = temp_df.groupby(['receipt_id']).median()\n",
    "    std_df    = temp_df.groupby(['receipt_id']).std()\n",
    "    rank_df   = temp_df.groupby(['receipt_id']).rank(pct=True)\n",
    "    for each_feature in feature_list:\n",
    "        temp_dict = mean_df[each_feature].to_dict()\n",
    "        temp_df[each_feature+'_mean']   = temp_df.apply(lambda row: temp_dict[row['receipt_id']],axis=1)\n",
    "        temp_dict = median_df[each_feature].to_dict()\n",
    "        temp_df[each_feature+'_median'] = temp_df.apply(lambda row: temp_dict[row['receipt_id']],axis=1)\n",
    "        temp_dict = std_df[each_feature].to_dict()\n",
    "        temp_df[each_feature+'_std']    = temp_df.apply(lambda row: temp_dict[row['receipt_id']],axis=1).fillna(0)\n",
    "        temp_df[each_feature+'_rank']   = rank_df[each_feature]\n",
    "        \n",
    "    #Drop feature_transaction_id and matched_transaction_id columns\n",
    "    temp_df.drop(['feature_transaction_id','matched_transaction_id'],axis=1,inplace=True)\n",
    "    return temp_df"
   ]
  },
  {
   "cell_type": "markdown",
   "metadata": {},
   "source": [
    "Load file"
   ]
  },
  {
   "cell_type": "code",
   "execution_count": 3,
   "metadata": {},
   "outputs": [
    {
     "name": "stdout",
     "output_type": "stream",
     "text": [
      "Number of records: 12034 , Number of columns: 14\n",
      "Data Types listing:\n",
      " float64    10\n",
      "int64       4\n",
      "dtype: int64\n",
      "\n",
      "\n",
      "List of columns\n",
      " receipt_id\n",
      "company_id\n",
      "matched_transaction_id\n",
      "feature_transaction_id\n",
      "DateMappingMatch\n",
      "AmountMappingMatch\n",
      "DescriptionMatch\n",
      "DifferentPredictedTime\n",
      "TimeMappingMatch\n",
      "PredictedNameMatch\n",
      "ShortNameMatch\n",
      "DifferentPredictedDate\n",
      "PredictedAmountMatch\n",
      "PredictedTimeCloseMatch\n",
      "CPU times: user 20.4 ms, sys: 6.39 ms, total: 26.8 ms\n",
      "Wall time: 24.8 ms\n"
     ]
    }
   ],
   "source": [
    "%%time\n",
    "in_df = pd.read_csv(\"data.csv\",delimiter=':', thousands=',')\n",
    "print(\"Number of records:\", in_df.shape[0], \", Number of columns:\", in_df.shape[1])\n",
    "print(\"Data Types listing:\\n\",in_df.dtypes.value_counts())\n",
    "print(\"\\n\\nList of columns\\n\",'\\n'.join(in_df.columns.tolist()))"
   ]
  },
  {
   "cell_type": "markdown",
   "metadata": {},
   "source": [
    "Explore data and initial analysis"
   ]
  },
  {
   "cell_type": "code",
   "execution_count": 4,
   "metadata": {},
   "outputs": [
    {
     "name": "stdout",
     "output_type": "stream",
     "text": [
      "CPU times: user 564 µs, sys: 234 µs, total: 798 µs\n",
      "Wall time: 712 µs\n"
     ]
    },
    {
     "data": {
      "text/html": [
       "<div>\n",
       "<style scoped>\n",
       "    .dataframe tbody tr th:only-of-type {\n",
       "        vertical-align: middle;\n",
       "    }\n",
       "\n",
       "    .dataframe tbody tr th {\n",
       "        vertical-align: top;\n",
       "    }\n",
       "\n",
       "    .dataframe thead th {\n",
       "        text-align: right;\n",
       "    }\n",
       "</style>\n",
       "<table border=\"1\" class=\"dataframe\">\n",
       "  <thead>\n",
       "    <tr style=\"text-align: right;\">\n",
       "      <th></th>\n",
       "      <th>receipt_id</th>\n",
       "      <th>company_id</th>\n",
       "      <th>matched_transaction_id</th>\n",
       "      <th>feature_transaction_id</th>\n",
       "      <th>DateMappingMatch</th>\n",
       "      <th>AmountMappingMatch</th>\n",
       "      <th>DescriptionMatch</th>\n",
       "      <th>DifferentPredictedTime</th>\n",
       "      <th>TimeMappingMatch</th>\n",
       "      <th>PredictedNameMatch</th>\n",
       "      <th>ShortNameMatch</th>\n",
       "      <th>DifferentPredictedDate</th>\n",
       "      <th>PredictedAmountMatch</th>\n",
       "      <th>PredictedTimeCloseMatch</th>\n",
       "    </tr>\n",
       "  </thead>\n",
       "  <tbody>\n",
       "    <tr>\n",
       "      <th>0</th>\n",
       "      <td>10000</td>\n",
       "      <td>10000</td>\n",
       "      <td>10468</td>\n",
       "      <td>10000</td>\n",
       "      <td>0.0</td>\n",
       "      <td>0.0</td>\n",
       "      <td>0.0</td>\n",
       "      <td>1.0</td>\n",
       "      <td>0.0</td>\n",
       "      <td>0.0</td>\n",
       "      <td>0.0</td>\n",
       "      <td>1.0</td>\n",
       "      <td>0.0</td>\n",
       "      <td>0.0</td>\n",
       "    </tr>\n",
       "    <tr>\n",
       "      <th>1</th>\n",
       "      <td>10000</td>\n",
       "      <td>10000</td>\n",
       "      <td>10468</td>\n",
       "      <td>10001</td>\n",
       "      <td>0.0</td>\n",
       "      <td>0.0</td>\n",
       "      <td>0.0</td>\n",
       "      <td>1.0</td>\n",
       "      <td>0.0</td>\n",
       "      <td>0.0</td>\n",
       "      <td>0.0</td>\n",
       "      <td>1.0</td>\n",
       "      <td>0.0</td>\n",
       "      <td>0.0</td>\n",
       "    </tr>\n",
       "    <tr>\n",
       "      <th>2</th>\n",
       "      <td>10000</td>\n",
       "      <td>10000</td>\n",
       "      <td>10468</td>\n",
       "      <td>10003</td>\n",
       "      <td>0.0</td>\n",
       "      <td>0.0</td>\n",
       "      <td>0.0</td>\n",
       "      <td>1.0</td>\n",
       "      <td>0.0</td>\n",
       "      <td>0.0</td>\n",
       "      <td>0.0</td>\n",
       "      <td>1.0</td>\n",
       "      <td>0.0</td>\n",
       "      <td>0.0</td>\n",
       "    </tr>\n",
       "    <tr>\n",
       "      <th>3</th>\n",
       "      <td>10000</td>\n",
       "      <td>10000</td>\n",
       "      <td>10468</td>\n",
       "      <td>10004</td>\n",
       "      <td>0.0</td>\n",
       "      <td>0.0</td>\n",
       "      <td>0.0</td>\n",
       "      <td>1.0</td>\n",
       "      <td>0.0</td>\n",
       "      <td>0.0</td>\n",
       "      <td>0.0</td>\n",
       "      <td>1.0</td>\n",
       "      <td>0.0</td>\n",
       "      <td>0.0</td>\n",
       "    </tr>\n",
       "    <tr>\n",
       "      <th>4</th>\n",
       "      <td>10000</td>\n",
       "      <td>10000</td>\n",
       "      <td>10468</td>\n",
       "      <td>10005</td>\n",
       "      <td>0.0</td>\n",
       "      <td>0.0</td>\n",
       "      <td>0.0</td>\n",
       "      <td>1.0</td>\n",
       "      <td>0.0</td>\n",
       "      <td>0.0</td>\n",
       "      <td>0.0</td>\n",
       "      <td>1.0</td>\n",
       "      <td>0.0</td>\n",
       "      <td>0.0</td>\n",
       "    </tr>\n",
       "  </tbody>\n",
       "</table>\n",
       "</div>"
      ],
      "text/plain": [
       "   receipt_id  company_id  matched_transaction_id  feature_transaction_id  \\\n",
       "0       10000       10000                   10468                   10000   \n",
       "1       10000       10000                   10468                   10001   \n",
       "2       10000       10000                   10468                   10003   \n",
       "3       10000       10000                   10468                   10004   \n",
       "4       10000       10000                   10468                   10005   \n",
       "\n",
       "   DateMappingMatch  AmountMappingMatch  DescriptionMatch  \\\n",
       "0               0.0                 0.0               0.0   \n",
       "1               0.0                 0.0               0.0   \n",
       "2               0.0                 0.0               0.0   \n",
       "3               0.0                 0.0               0.0   \n",
       "4               0.0                 0.0               0.0   \n",
       "\n",
       "   DifferentPredictedTime  TimeMappingMatch  PredictedNameMatch  \\\n",
       "0                     1.0               0.0                 0.0   \n",
       "1                     1.0               0.0                 0.0   \n",
       "2                     1.0               0.0                 0.0   \n",
       "3                     1.0               0.0                 0.0   \n",
       "4                     1.0               0.0                 0.0   \n",
       "\n",
       "   ShortNameMatch  DifferentPredictedDate  PredictedAmountMatch  \\\n",
       "0             0.0                     1.0                   0.0   \n",
       "1             0.0                     1.0                   0.0   \n",
       "2             0.0                     1.0                   0.0   \n",
       "3             0.0                     1.0                   0.0   \n",
       "4             0.0                     1.0                   0.0   \n",
       "\n",
       "   PredictedTimeCloseMatch  \n",
       "0                      0.0  \n",
       "1                      0.0  \n",
       "2                      0.0  \n",
       "3                      0.0  \n",
       "4                      0.0  "
      ]
     },
     "execution_count": 4,
     "metadata": {},
     "output_type": "execute_result"
    }
   ],
   "source": [
    "%%time\n",
    "in_df.head()"
   ]
  },
  {
   "cell_type": "markdown",
   "metadata": {},
   "source": [
    "Missing Value Analysis"
   ]
  },
  {
   "cell_type": "code",
   "execution_count": 5,
   "metadata": {},
   "outputs": [
    {
     "name": "stdout",
     "output_type": "stream",
     "text": [
      "CPU times: user 2.44 ms, sys: 1.41 ms, total: 3.85 ms\n",
      "Wall time: 2.59 ms\n"
     ]
    },
    {
     "data": {
      "text/plain": [
       "receipt_id                 0\n",
       "company_id                 0\n",
       "matched_transaction_id     0\n",
       "feature_transaction_id     0\n",
       "DateMappingMatch           0\n",
       "AmountMappingMatch         0\n",
       "DescriptionMatch           0\n",
       "DifferentPredictedTime     0\n",
       "TimeMappingMatch           0\n",
       "PredictedNameMatch         0\n",
       "ShortNameMatch             0\n",
       "DifferentPredictedDate     0\n",
       "PredictedAmountMatch       0\n",
       "PredictedTimeCloseMatch    0\n",
       "dtype: int64"
      ]
     },
     "execution_count": 5,
     "metadata": {},
     "output_type": "execute_result"
    }
   ],
   "source": [
    "%%time\n",
    "in_df.isnull().sum()"
   ]
  },
  {
   "cell_type": "markdown",
   "metadata": {},
   "source": [
    "Looks like no missing values in the data"
   ]
  },
  {
   "cell_type": "markdown",
   "metadata": {},
   "source": [
    "Lets check the number of unique receipts and company ids"
   ]
  },
  {
   "cell_type": "code",
   "execution_count": 6,
   "metadata": {},
   "outputs": [
    {
     "name": "stdout",
     "output_type": "stream",
     "text": [
      "#receipt ids -  1155 \n",
      "#company ids -  5\n",
      "CPU times: user 1.17 ms, sys: 687 µs, total: 1.86 ms\n",
      "Wall time: 1.22 ms\n"
     ]
    }
   ],
   "source": [
    "%%time\n",
    "print(\"#receipt ids - \", len(in_df['receipt_id'].unique()),\"\\n#company ids - \", len(in_df['company_id'].unique()))"
   ]
  },
  {
   "cell_type": "markdown",
   "metadata": {},
   "source": [
    "- Lets check the average number of partial matches for each receipt\n",
    "- Also lets check the representation of receipts per each company id"
   ]
  },
  {
   "cell_type": "code",
   "execution_count": 7,
   "metadata": {},
   "outputs": [
    {
     "data": {
      "image/png": "[encoded data removed]",
      "text/plain": [
       "<Figure size 1080x216 with 2 Axes>"
      ]
     },
     "metadata": {
      "needs_background": "light"
     },
     "output_type": "display_data"
    },
    {
     "name": "stdout",
     "output_type": "stream",
     "text": [
      "CPU times: user 600 ms, sys: 87.6 ms, total: 688 ms\n",
      "Wall time: 528 ms\n"
     ]
    }
   ],
   "source": [
    "%%time\n",
    "rcParams['figure.figsize'] = 15, 3; fig, axes = plt.subplots(1,2)\n",
    "ax = axes[0]; sns.countplot(in_df['receipt_id'].value_counts(),ax=ax)\n",
    "ax.set_xlabel(\"Number of matches per receipt id\"); ax.set_title(\"Distribution of total matches per receipt\")\n",
    "ax = axes[1]; sns.countplot(in_df['company_id'],ax=ax)\n",
    "ax.set_title(\"Distribution of total entries per each company id\")\n",
    "plt.tight_layout(); plt.show()"
   ]
  },
  {
   "cell_type": "markdown",
   "metadata": {},
   "source": [
    "Observations:\n",
    "    - Close to 270 receipt ids have 20 partial matches, while a lot of receipts have lower density of matches\n",
    "    - CompanyID 3000 has highest representation of receipts and 4000 CompanyID with the least representation"
   ]
  },
  {
   "cell_type": "markdown",
   "metadata": {},
   "source": [
    "Lets see the distribution of Features among matching transactions and unmatching transactions"
   ]
  },
  {
   "cell_type": "code",
   "execution_count": 8,
   "metadata": {},
   "outputs": [
    {
     "name": "stdout",
     "output_type": "stream",
     "text": [
      "Number of matching entries: 857 \n",
      "Number of non-matching entries: 11177\n"
     ]
    },
    {
     "data": {
      "image/png": "[encoded data removed]",
      "text/plain": [
       "<Figure size 1440x576 with 10 Axes>"
      ]
     },
     "metadata": {
      "needs_background": "light"
     },
     "output_type": "display_data"
    },
    {
     "name": "stdout",
     "output_type": "stream",
     "text": [
      "CPU times: user 5.2 s, sys: 469 ms, total: 5.67 s\n",
      "Wall time: 3.42 s\n"
     ]
    }
   ],
   "source": [
    "%%time\n",
    "match_df = in_df[in_df['matched_transaction_id'] == in_df['feature_transaction_id']]\n",
    "notmatch_df = in_df[in_df['matched_transaction_id'] != in_df['feature_transaction_id']]\n",
    "print(\"Number of matching entries:\", match_df.shape[0], \"\\nNumber of non-matching entries:\", notmatch_df.shape[0])\n",
    "\n",
    "rcParams['figure.figsize'] = 20, 8; fig, axes = plt.subplots(2,5)\n",
    "feature_cols = ['DateMappingMatch','AmountMappingMatch','DescriptionMatch','DifferentPredictedTime',\n",
    "                'TimeMappingMatch', 'PredictedNameMatch', 'ShortNameMatch', 'DifferentPredictedDate',\n",
    "                'PredictedAmountMatch', 'PredictedTimeCloseMatch']\n",
    "i = j = 0\n",
    "for each_col in feature_cols:\n",
    "    ax = axes[i][j]; sns.distplot(match_df[each_col],label='Matching',ax=ax);\n",
    "    sns.distplot(notmatch_df[each_col],label='Not Matching',ax=ax); ax.legend(loc='best')\n",
    "    j += 1\n",
    "    if j == 5:\n",
    "        i += 1; j = 0\n",
    "\n",
    "plt.tight_layout(); plt.show()"
   ]
  },
  {
   "cell_type": "markdown",
   "metadata": {},
   "source": [
    "Split Train and Test Data"
   ]
  },
  {
   "cell_type": "code",
   "execution_count": 9,
   "metadata": {},
   "outputs": [
    {
     "name": "stdout",
     "output_type": "stream",
     "text": [
      "Total receipts: 1155 , Training#: 809 , validation#: 346\n",
      "CPU times: user 1.38 ms, sys: 891 µs, total: 2.28 ms\n",
      "Wall time: 1.47 ms\n"
     ]
    }
   ],
   "source": [
    "%%time\n",
    "test_ratio = 0.3\n",
    "total_receipts = len(in_df['receipt_id'].unique())\n",
    "test_receipt_count = round(total_receipts*test_ratio)\n",
    "train_receipt_count = total_receipts - test_receipt_count\n",
    "print(\"Total receipts:\", total_receipts, \", Training#:\", train_receipt_count,\", validation#:\",test_receipt_count)"
   ]
  },
  {
   "cell_type": "markdown",
   "metadata": {},
   "source": [
    "Make sure the records are split according to random sampling of receipts"
   ]
  },
  {
   "cell_type": "code",
   "execution_count": 10,
   "metadata": {},
   "outputs": [
    {
     "name": "stdout",
     "output_type": "stream",
     "text": [
      "True\n",
      "CPU times: user 11.4 ms, sys: 1.49 ms, total: 12.9 ms\n",
      "Wall time: 11.7 ms\n"
     ]
    }
   ],
   "source": [
    "%%time\n",
    "seed1 = 123\n",
    "np.random.seed(seed1)\n",
    "train_receipts = np.random.choice(in_df['receipt_id'].unique(),train_receipt_count,replace=False).tolist()\n",
    "test_receipts = [x for x in in_df['receipt_id'].unique().tolist() if x not in train_receipts]\n",
    "print((len(train_receipts) == train_receipt_count) & (len(test_receipts) == test_receipt_count))\n",
    "\n",
    "train_df = in_df[in_df['receipt_id'].isin(train_receipts)]\n",
    "test_df = in_df[in_df['receipt_id'].isin(test_receipts)]"
   ]
  },
  {
   "cell_type": "markdown",
   "metadata": {},
   "source": [
    "- Check the distribution of receipts vs number of matches both in train and test\n",
    "- This will ensure that some receipts with high/low number of matches dont end up wholly in train/test"
   ]
  },
  {
   "cell_type": "code",
   "execution_count": 11,
   "metadata": {},
   "outputs": [
    {
     "data": {
      "image/png": "[encoded data removed]",
      "text/plain": [
       "<Figure size 720x288 with 2 Axes>"
      ]
     },
     "metadata": {
      "needs_background": "light"
     },
     "output_type": "display_data"
    },
    {
     "name": "stdout",
     "output_type": "stream",
     "text": [
      "CPU times: user 699 ms, sys: 77.8 ms, total: 777 ms\n",
      "Wall time: 596 ms\n"
     ]
    }
   ],
   "source": [
    "%%time\n",
    "rcParams['figure.figsize'] = 10, 4; fig, axes = plt.subplots(1,2)\n",
    "ax = axes[0]; sns.countplot(train_df['receipt_id'].value_counts(),ax=ax); ax.set_title('Training Receipt Dist')\n",
    "ax = axes[1]; sns.countplot(test_df['receipt_id'].value_counts(),ax=ax); ax.set_title('Validation Receipt Dist')\n",
    "plt.tight_layout(); plt.show()"
   ]
  },
  {
   "cell_type": "markdown",
   "metadata": {},
   "source": [
    "<br><br>Feature Engineering: <br> <br>\n",
    "Initial observations:\n",
    "- ReceiptIDs, FeatureTransactionIDs and MatchedTransactionIDs are actually group indicators in data\n",
    "- They let us identify the receipt-transaction groups in data but dont actually provide additional information"
   ]
  },
  {
   "cell_type": "markdown",
   "metadata": {},
   "source": [
    "New Features: <br><br>\n",
    "- Feature Name: CompanyID\n",
    "    - Perform one hot encoding of CompanyID values <br><br>\n",
    "- Feature Name: Match\n",
    "    - To identify if a feature txn id is indeed the matched transaction id\n",
    "    - Possible values - 1, 0 <br><br>\n",
    "- Feature Name: ReceiptMatchesCount\n",
    "    - To identify the sum total of partial matches for a receipt id\n",
    "    - Possible values - Minimum of 1 to a maximum of 25 (as per the data) <br><br>\n",
    "- Feature Group: Statistics\n",
    "    - For every feature listed below, we would want to capture group information for every record.\n",
    "        'DateMappingMatch','AmountMappingMatch','DescriptionMatch','DifferentPredictedTime', 'TimeMappingMatch',  'PredictedNameMatch', 'ShortNameMatch', 'DifferentPredictedDate',\n",
    "        'PredictedAmountMatch', 'PredictedTimeCloseMatch'\n",
    "    - For example, for 'DateMappingMatch' feature, we would like to capture the below statistics <br>\n",
    "         Minimum, Maximum, Mean, Median, StandardDeviation, Percentile\n",
    "    - All the above statistics calculated within a group stay the same for all records of a given group, except for percentile rank\n",
    "    - Percentile rank is different for each record within a group"
   ]
  },
  {
   "cell_type": "markdown",
   "metadata": {},
   "source": [
    "Additional Comments: <br>\n",
    "- CompanyID hotencoded columns provide grouping of receipts for a given company\n",
    "- TotalPartialMatches and Statistics feature group together provide unique signature for records belonging to a group\n",
    "- Due to the above effect, we will not need the feature transaction id to identify records in a group during training"
   ]
  },
  {
   "cell_type": "code",
   "execution_count": 12,
   "metadata": {},
   "outputs": [
    {
     "name": "stdout",
     "output_type": "stream",
     "text": [
      "CPU times: user 5.6 s, sys: 113 ms, total: 5.71 s\n",
      "Wall time: 5.72 s\n"
     ]
    }
   ],
   "source": [
    "%%time\n",
    "train_df = FeatureEngineering(train_df) \n",
    "test_df  = FeatureEngineering(test_df)"
   ]
  },
  {
   "cell_type": "markdown",
   "metadata": {},
   "source": [
    "Check for null values after feature engineering and drop the receipt column"
   ]
  },
  {
   "cell_type": "code",
   "execution_count": 13,
   "metadata": {},
   "outputs": [
    {
     "name": "stdout",
     "output_type": "stream",
     "text": [
      "Null value rows and columns in Train (0, 58)\n",
      "Null value rows and columns in Validation (0, 58)\n",
      "CPU times: user 10.1 ms, sys: 4.28 ms, total: 14.4 ms\n",
      "Wall time: 11.9 ms\n"
     ]
    }
   ],
   "source": [
    "%%time\n",
    "print(\"Null value rows and columns in Train\",train_df[train_df.isnull().any(axis=1)].shape)\n",
    "print(\"Null value rows and columns in Validation\",test_df[test_df.isnull().any(axis=1)].shape)\n",
    "\n",
    "test_df_copy = test_df.copy()\n",
    "\n",
    "drop_cols = ['receipt_id']\n",
    "train_df.drop(drop_cols,axis=1,inplace=True); test_df.drop(drop_cols,axis=1,inplace=True)"
   ]
  },
  {
   "cell_type": "code",
   "execution_count": 14,
   "metadata": {},
   "outputs": [
    {
     "name": "stdout",
     "output_type": "stream",
     "text": [
      "UnMatching vs Matching txns for receipts in training data -  [93.0, 7.0]\n",
      "UnMatching vs Matching txns for receipts in validation data -  [93.0, 7.0]\n",
      "CPU times: user 5.21 ms, sys: 1.95 ms, total: 7.16 ms\n",
      "Wall time: 5.58 ms\n"
     ]
    }
   ],
   "source": [
    "%%time\n",
    "def percent_dist(temp_df):\n",
    "    return round(temp_df['Match'].value_counts() * 100 / temp_df.shape[0]).tolist()\n",
    "\n",
    "print(\"UnMatching vs Matching txns for receipts in training data - \", percent_dist(train_df))\n",
    "print(\"UnMatching vs Matching txns for receipts in validation data - \", percent_dist(test_df))"
   ]
  },
  {
   "cell_type": "markdown",
   "metadata": {},
   "source": [
    "Scaling of features"
   ]
  },
  {
   "cell_type": "code",
   "execution_count": 15,
   "metadata": {},
   "outputs": [],
   "source": [
    "scaler = MinMaxScaler()\n",
    "scaler.fit(train_df)\n",
    "train_df_scaled = pd.DataFrame(scaler.transform(train_df),columns=train_df.columns)\n",
    "test_df_scaled  = pd.DataFrame(scaler.transform(test_df),columns=test_df.columns)"
   ]
  },
  {
   "cell_type": "markdown",
   "metadata": {},
   "source": [
    "Feature Selection & Analysis"
   ]
  },
  {
   "cell_type": "markdown",
   "metadata": {},
   "source": [
    "Check correlation among features"
   ]
  },
  {
   "cell_type": "code",
   "execution_count": 16,
   "metadata": {},
   "outputs": [
    {
     "data": {
      "image/png": "[encoded data removed]",
      "text/plain": [
       "<Figure size 720x576 with 2 Axes>"
      ]
     },
     "metadata": {
      "needs_background": "light"
     },
     "output_type": "display_data"
    }
   ],
   "source": [
    "fig, axes = plt.subplots(figsize=(10, 8))\n",
    "corr = train_df_scaled.corr().abs()\n",
    "sns.heatmap(corr, mask=np.zeros_like(corr, dtype=np.bool), \n",
    "            cmap=sns.diverging_palette(220, 10, as_cmap=True),\n",
    "            square=True, ax=axes); plt.show()"
   ]
  },
  {
   "cell_type": "markdown",
   "metadata": {},
   "source": [
    "Top 10 highly correlated features with outcome variable"
   ]
  },
  {
   "cell_type": "code",
   "execution_count": 17,
   "metadata": {},
   "outputs": [
    {
     "data": {
      "image/png": "[encoded data removed]",
      "text/plain": [
       "<Figure size 720x288 with 1 Axes>"
      ]
     },
     "metadata": {
      "needs_background": "light"
     },
     "output_type": "display_data"
    }
   ],
   "source": [
    "temp_df = corr.loc['Match'].sort_values(ascending=False)[1:11]\n",
    "High_correl_features = temp_df.index.values.tolist()\n",
    "temp_df.plot(kind='barh'); plt.title(\"Top 10 Highly Correlated Features with Outcome\"); plt.show()"
   ]
  },
  {
   "cell_type": "markdown",
   "metadata": {},
   "source": [
    "SelectKbest with Anova Analysis"
   ]
  },
  {
   "cell_type": "code",
   "execution_count": 18,
   "metadata": {},
   "outputs": [
    {
     "data": {
      "image/png": "[encoded data removed]",
      "text/plain": [
       "<Figure size 720x288 with 1 Axes>"
      ]
     },
     "metadata": {
      "needs_background": "light"
     },
     "output_type": "display_data"
    }
   ],
   "source": [
    "kbest_df = perform_selectkbest(train_df_scaled,'Match','anova')\n",
    "kbest_features_anova = kbest_df['FeatureName'].values.tolist()\n",
    "plt.barh(kbest_df['FeatureName'],kbest_df['FeatureImportance']);\n",
    "plt.title(\"Top 10 Important Features with Outcome - as per ANOVA analysis\"); plt.show()"
   ]
  },
  {
   "cell_type": "markdown",
   "metadata": {},
   "source": [
    "Model Analysis"
   ]
  },
  {
   "cell_type": "markdown",
   "metadata": {},
   "source": [
    "Results with including all features"
   ]
  },
  {
   "cell_type": "code",
   "execution_count": 19,
   "metadata": {},
   "outputs": [
    {
     "data": {
      "text/html": [
       "<div>\n",
       "<style scoped>\n",
       "    .dataframe tbody tr th:only-of-type {\n",
       "        vertical-align: middle;\n",
       "    }\n",
       "\n",
       "    .dataframe tbody tr th {\n",
       "        vertical-align: top;\n",
       "    }\n",
       "\n",
       "    .dataframe thead th {\n",
       "        text-align: right;\n",
       "    }\n",
       "</style>\n",
       "<table border=\"1\" class=\"dataframe\">\n",
       "  <thead>\n",
       "    <tr style=\"text-align: right;\">\n",
       "      <th></th>\n",
       "      <th>Model</th>\n",
       "      <th>Matching - F1</th>\n",
       "      <th>Balanced Accuracy</th>\n",
       "      <th>ROC_AUC_SCORE</th>\n",
       "    </tr>\n",
       "  </thead>\n",
       "  <tbody>\n",
       "    <tr>\n",
       "      <th>1</th>\n",
       "      <td>RandomForest</td>\n",
       "      <td>0.756152</td>\n",
       "      <td>0.826818</td>\n",
       "      <td>0.982064</td>\n",
       "    </tr>\n",
       "    <tr>\n",
       "      <th>2</th>\n",
       "      <td>XGBoost</td>\n",
       "      <td>0.755940</td>\n",
       "      <td>0.837055</td>\n",
       "      <td>0.983464</td>\n",
       "    </tr>\n",
       "    <tr>\n",
       "      <th>4</th>\n",
       "      <td>AdaBoost</td>\n",
       "      <td>0.747863</td>\n",
       "      <td>0.836314</td>\n",
       "      <td>0.976303</td>\n",
       "    </tr>\n",
       "    <tr>\n",
       "      <th>0</th>\n",
       "      <td>Logistic</td>\n",
       "      <td>0.728477</td>\n",
       "      <td>0.817523</td>\n",
       "      <td>0.981622</td>\n",
       "    </tr>\n",
       "    <tr>\n",
       "      <th>5</th>\n",
       "      <td>MLP</td>\n",
       "      <td>0.641414</td>\n",
       "      <td>0.746120</td>\n",
       "      <td>0.976315</td>\n",
       "    </tr>\n",
       "    <tr>\n",
       "      <th>3</th>\n",
       "      <td>NaiveBayes</td>\n",
       "      <td>0.574713</td>\n",
       "      <td>0.815419</td>\n",
       "      <td>0.944220</td>\n",
       "    </tr>\n",
       "  </tbody>\n",
       "</table>\n",
       "</div>"
      ],
      "text/plain": [
       "          Model  Matching - F1  Balanced Accuracy  ROC_AUC_SCORE\n",
       "1  RandomForest       0.756152           0.826818       0.982064\n",
       "2       XGBoost       0.755940           0.837055       0.983464\n",
       "4      AdaBoost       0.747863           0.836314       0.976303\n",
       "0      Logistic       0.728477           0.817523       0.981622\n",
       "5           MLP       0.641414           0.746120       0.976315\n",
       "3    NaiveBayes       0.574713           0.815419       0.944220"
      ]
     },
     "execution_count": 19,
     "metadata": {},
     "output_type": "execute_result"
    }
   ],
   "source": [
    "include_cols = train_df_scaled.columns\n",
    "evaluate_models(train_df_scaled, test_df_scaled, 'Match')"
   ]
  },
  {
   "cell_type": "markdown",
   "metadata": {},
   "source": [
    "Results with including only highly correlated features"
   ]
  },
  {
   "cell_type": "code",
   "execution_count": 20,
   "metadata": {},
   "outputs": [
    {
     "data": {
      "text/html": [
       "<div>\n",
       "<style scoped>\n",
       "    .dataframe tbody tr th:only-of-type {\n",
       "        vertical-align: middle;\n",
       "    }\n",
       "\n",
       "    .dataframe tbody tr th {\n",
       "        vertical-align: top;\n",
       "    }\n",
       "\n",
       "    .dataframe thead th {\n",
       "        text-align: right;\n",
       "    }\n",
       "</style>\n",
       "<table border=\"1\" class=\"dataframe\">\n",
       "  <thead>\n",
       "    <tr style=\"text-align: right;\">\n",
       "      <th></th>\n",
       "      <th>Model</th>\n",
       "      <th>Matching - F1</th>\n",
       "      <th>Balanced Accuracy</th>\n",
       "      <th>ROC_AUC_SCORE</th>\n",
       "    </tr>\n",
       "  </thead>\n",
       "  <tbody>\n",
       "    <tr>\n",
       "      <th>2</th>\n",
       "      <td>XGBoost</td>\n",
       "      <td>0.753247</td>\n",
       "      <td>0.835102</td>\n",
       "      <td>0.984025</td>\n",
       "    </tr>\n",
       "    <tr>\n",
       "      <th>1</th>\n",
       "      <td>RandomForest</td>\n",
       "      <td>0.746067</td>\n",
       "      <td>0.820810</td>\n",
       "      <td>0.977775</td>\n",
       "    </tr>\n",
       "    <tr>\n",
       "      <th>4</th>\n",
       "      <td>AdaBoost</td>\n",
       "      <td>0.731501</td>\n",
       "      <td>0.831370</td>\n",
       "      <td>0.975059</td>\n",
       "    </tr>\n",
       "    <tr>\n",
       "      <th>0</th>\n",
       "      <td>Logistic</td>\n",
       "      <td>0.691415</td>\n",
       "      <td>0.787163</td>\n",
       "      <td>0.975699</td>\n",
       "    </tr>\n",
       "    <tr>\n",
       "      <th>3</th>\n",
       "      <td>NaiveBayes</td>\n",
       "      <td>0.677903</td>\n",
       "      <td>0.839141</td>\n",
       "      <td>0.969623</td>\n",
       "    </tr>\n",
       "    <tr>\n",
       "      <th>5</th>\n",
       "      <td>MLP</td>\n",
       "      <td>0.511494</td>\n",
       "      <td>0.673384</td>\n",
       "      <td>0.975428</td>\n",
       "    </tr>\n",
       "  </tbody>\n",
       "</table>\n",
       "</div>"
      ],
      "text/plain": [
       "          Model  Matching - F1  Balanced Accuracy  ROC_AUC_SCORE\n",
       "2       XGBoost       0.753247           0.835102       0.984025\n",
       "1  RandomForest       0.746067           0.820810       0.977775\n",
       "4      AdaBoost       0.731501           0.831370       0.975059\n",
       "0      Logistic       0.691415           0.787163       0.975699\n",
       "3    NaiveBayes       0.677903           0.839141       0.969623\n",
       "5           MLP       0.511494           0.673384       0.975428"
      ]
     },
     "execution_count": 20,
     "metadata": {},
     "output_type": "execute_result"
    }
   ],
   "source": [
    "include_cols = High_correl_features\n",
    "include_cols.append('Match')\n",
    "evaluate_models(train_df_scaled.loc[:,include_cols], test_df_scaled.loc[:,include_cols], 'Match')"
   ]
  },
  {
   "cell_type": "markdown",
   "metadata": {},
   "source": [
    "Results with including only kbest best features from ANOVA Test"
   ]
  },
  {
   "cell_type": "code",
   "execution_count": 21,
   "metadata": {},
   "outputs": [
    {
     "data": {
      "text/html": [
       "<div>\n",
       "<style scoped>\n",
       "    .dataframe tbody tr th:only-of-type {\n",
       "        vertical-align: middle;\n",
       "    }\n",
       "\n",
       "    .dataframe tbody tr th {\n",
       "        vertical-align: top;\n",
       "    }\n",
       "\n",
       "    .dataframe thead th {\n",
       "        text-align: right;\n",
       "    }\n",
       "</style>\n",
       "<table border=\"1\" class=\"dataframe\">\n",
       "  <thead>\n",
       "    <tr style=\"text-align: right;\">\n",
       "      <th></th>\n",
       "      <th>Model</th>\n",
       "      <th>Matching - F1</th>\n",
       "      <th>Balanced Accuracy</th>\n",
       "      <th>ROC_AUC_SCORE</th>\n",
       "    </tr>\n",
       "  </thead>\n",
       "  <tbody>\n",
       "    <tr>\n",
       "      <th>2</th>\n",
       "      <td>XGBoost</td>\n",
       "      <td>0.753247</td>\n",
       "      <td>0.835102</td>\n",
       "      <td>0.984025</td>\n",
       "    </tr>\n",
       "    <tr>\n",
       "      <th>1</th>\n",
       "      <td>RandomForest</td>\n",
       "      <td>0.746067</td>\n",
       "      <td>0.820810</td>\n",
       "      <td>0.977775</td>\n",
       "    </tr>\n",
       "    <tr>\n",
       "      <th>4</th>\n",
       "      <td>AdaBoost</td>\n",
       "      <td>0.731501</td>\n",
       "      <td>0.831370</td>\n",
       "      <td>0.975059</td>\n",
       "    </tr>\n",
       "    <tr>\n",
       "      <th>0</th>\n",
       "      <td>Logistic</td>\n",
       "      <td>0.691415</td>\n",
       "      <td>0.787163</td>\n",
       "      <td>0.975699</td>\n",
       "    </tr>\n",
       "    <tr>\n",
       "      <th>3</th>\n",
       "      <td>NaiveBayes</td>\n",
       "      <td>0.677903</td>\n",
       "      <td>0.839141</td>\n",
       "      <td>0.969623</td>\n",
       "    </tr>\n",
       "    <tr>\n",
       "      <th>5</th>\n",
       "      <td>MLP</td>\n",
       "      <td>0.511494</td>\n",
       "      <td>0.673384</td>\n",
       "      <td>0.975428</td>\n",
       "    </tr>\n",
       "  </tbody>\n",
       "</table>\n",
       "</div>"
      ],
      "text/plain": [
       "          Model  Matching - F1  Balanced Accuracy  ROC_AUC_SCORE\n",
       "2       XGBoost       0.753247           0.835102       0.984025\n",
       "1  RandomForest       0.746067           0.820810       0.977775\n",
       "4      AdaBoost       0.731501           0.831370       0.975059\n",
       "0      Logistic       0.691415           0.787163       0.975699\n",
       "3    NaiveBayes       0.677903           0.839141       0.969623\n",
       "5           MLP       0.511494           0.673384       0.975428"
      ]
     },
     "execution_count": 21,
     "metadata": {},
     "output_type": "execute_result"
    }
   ],
   "source": [
    "include_cols = kbest_features_anova\n",
    "include_cols.append('Match')\n",
    "evaluate_models(train_df_scaled.loc[:,include_cols], test_df_scaled.loc[:,include_cols], 'Match')"
   ]
  },
  {
   "cell_type": "markdown",
   "metadata": {},
   "source": [
    "With the above metrics, we are seeing that including all features is resulting in better performance"
   ]
  },
  {
   "cell_type": "markdown",
   "metadata": {},
   "source": [
    "Among the candidate models, XGBoost has overall better performance, so we will make use of that as final model"
   ]
  },
  {
   "cell_type": "code",
   "execution_count": null,
   "metadata": {},
   "outputs": [],
   "source": []
  },
  {
   "cell_type": "markdown",
   "metadata": {},
   "source": [
    "Class implementation for receipt match\n",
    "- Please note that this is also repeated in the python program\n",
    "- This is present in two places so that the same code could be executed directly from notebook"
   ]
  },
  {
   "cell_type": "code",
   "execution_count": 22,
   "metadata": {},
   "outputs": [],
   "source": [
    "class receipt_match:\n",
    "    outcome_feature = 'Match'\n",
    "    data_split_seed = 123\n",
    "    model_seed      = 1234\n",
    "    \n",
    "    def __init__(self,train_file):\n",
    "        self.train_file     = train_file\n",
    "        self.input_data     = pd.read_csv(train_file,delimiter=':', thousands=',')\n",
    "        self.total_receipts = len(self.input_data['receipt_id'].unique())\n",
    "        self.model_file     = None\n",
    "        \n",
    "    def model_stats(self,test_ratio):\n",
    "        np.random.seed(self.data_split_seed)\n",
    "        test_receipt_count  = round(self.total_receipts*test_ratio)\n",
    "        train_receipt_count = self.total_receipts - test_receipt_count\n",
    "        train_receipts      = np.random.choice(self.input_data['receipt_id'].unique(),\n",
    "                                               train_receipt_count,replace=False).tolist()\n",
    "        test_receipts  = [x for x in self.input_data['receipt_id'].unique().tolist() if x not in train_receipts]\n",
    "        train_df       = self.input_data[self.input_data['receipt_id'].isin(train_receipts)]\n",
    "        test_df        = self.input_data[self.input_data['receipt_id'].isin(test_receipts)]\n",
    "\n",
    "        train_df = self.FeatureEngineering(train_df); test_df = self.FeatureEngineering(test_df)\n",
    "        drop_cols = ['receipt_id']\n",
    "        train_df.drop(drop_cols,axis=1,inplace=True); test_df.drop(drop_cols,axis=1,inplace=True)\n",
    "        \n",
    "        scaler = MinMaxScaler(); scaler.fit(train_df)\n",
    "        train_df_scaled = pd.DataFrame(scaler.transform(train_df),columns=train_df.columns)\n",
    "        test_df_scaled  = pd.DataFrame(scaler.transform(test_df),columns=test_df.columns)\n",
    "        \n",
    "        X_train  = train_df_scaled.loc[:,train_df_scaled.columns != self.outcome_feature]\n",
    "        y_train  = train_df_scaled.loc[:,train_df_scaled.columns == self.outcome_feature]\n",
    "        X_test   = test_df_scaled.loc[:,test_df_scaled.columns != self.outcome_feature]\n",
    "        y_test   = test_df_scaled.loc[:,test_df_scaled.columns == self.outcome_feature]\n",
    "        \n",
    "        xgb_clf = XGBClassifier(max_depth=10,random_state=self.model_seed,n_estimators=100,n_jobs=-1)\n",
    "        xgb_clf.fit(X_train, y_train);\n",
    "        \n",
    "        predictions    = xgb_clf.predict(X_test)\n",
    "        predict_proba  = xgb_clf.predict_proba(X_test)[:,1]\n",
    "        \n",
    "        metric_f1 = round(f1_score(y_test,predictions,average=None).tolist()[1],3)\n",
    "        bal_acc   = round(balanced_accuracy_score(y_test,predictions),3)\n",
    "        roc_score = round(roc_auc_score(y_test,predict_proba),3)\n",
    "        \n",
    "        print(\"Model Info:\",xgb_clf)\n",
    "        \n",
    "        print(\"Model Metrics:\\nF1-Score:\",metric_f1,\n",
    "              \"\\nBalanced Accuracy:\", bal_acc, \n",
    "              \"\\nROC_AUC_Score:\", roc_score)\n",
    "        \n",
    "    def FeatureEngineering(self,temp_df):\n",
    "        \n",
    "        #Match Feature\n",
    "        if (('matched_transaction_id' in temp_df.columns) and \n",
    "            ('feature_transaction_id' in temp_df.columns)):\n",
    "            temp_df['Match'] = temp_df.apply(lambda row: 1 \\\n",
    "                                            if row['matched_transaction_id'] == row['feature_transaction_id'] \\\n",
    "                                            else 0, axis = 1)\n",
    "        #CompanyID OneHotEncoding\n",
    "        temp_df = pd.concat([temp_df,pd.get_dummies(temp_df['company_id'],\n",
    "                                                    prefix='compid')],axis=1).drop('company_id',axis=1)\n",
    "\n",
    "        #ReceiptMatchesCount\n",
    "        receipt_counts = temp_df.groupby(['receipt_id']).size().to_dict()\n",
    "        temp_df['ReceiptMatchesCount'] = temp_df.apply(lambda row: receipt_counts[row['receipt_id']],axis=1)\n",
    "\n",
    "        feature_list = ['DateMappingMatch','AmountMappingMatch','DescriptionMatch',\n",
    "                        'DifferentPredictedTime', 'TimeMappingMatch', 'PredictedNameMatch', \n",
    "                        'ShortNameMatch', 'DifferentPredictedDate', 'PredictedAmountMatch', 'PredictedTimeCloseMatch']\n",
    "\n",
    "        #StatisticsFeatures\n",
    "        mean_df   = temp_df.groupby(['receipt_id']).mean()\n",
    "        median_df = temp_df.groupby(['receipt_id']).median()\n",
    "        std_df    = temp_df.groupby(['receipt_id']).std()\n",
    "        rank_df   = temp_df.groupby(['receipt_id']).rank(pct=True)\n",
    "        for each_feature in feature_list:\n",
    "            temp_dict = mean_df[each_feature].to_dict()\n",
    "            temp_df[each_feature+'_mean']   = temp_df.apply(lambda row: temp_dict[row['receipt_id']],axis=1)\n",
    "            temp_dict = median_df[each_feature].to_dict()\n",
    "            temp_df[each_feature+'_median'] = temp_df.apply(lambda row: temp_dict[row['receipt_id']],axis=1)\n",
    "            temp_dict = std_df[each_feature].to_dict()\n",
    "            temp_df[each_feature+'_std']    = temp_df.apply(lambda row: temp_dict[row['receipt_id']],axis=1).fillna(0)\n",
    "            temp_df[each_feature+'_rank']   = rank_df[each_feature]\n",
    "\n",
    "        #Drop feature_transaction_id and matched_transaction_id columns\n",
    "        for each_col in ['feature_transaction_id','matched_transaction_id']:\n",
    "            if each_col in temp_df.columns:\n",
    "                temp_df.drop(each_col,axis=1,inplace=True)\n",
    "                \n",
    "        return temp_df\n",
    "        \n",
    "    def fit(self,model_file):\n",
    "        self.model_file = model_file\n",
    "        feature_eng_df = self.FeatureEngineering(self.input_data)\n",
    "        feature_eng_df.drop(['receipt_id'],axis=1,inplace=True)\n",
    "        X_train  = feature_eng_df.loc[:,feature_eng_df.columns != self.outcome_feature]\n",
    "        y_train  = feature_eng_df.loc[:,feature_eng_df.columns == self.outcome_feature]\n",
    "        self.scaler = MinMaxScaler()\n",
    "        self.scaler.fit(X_train)\n",
    "        X_train_scaled = pd.DataFrame(self.scaler.transform(X_train),columns=X_train.columns)\n",
    "        self.xgb_clf = XGBClassifier(max_depth=10,random_state=self.model_seed,n_estimators=100,n_jobs=-1)\n",
    "        self.xgb_clf.fit(X_train_scaled, y_train)\n",
    "        pickle.dump(self.xgb_clf, open(model_file, 'wb'))\n",
    "        \n",
    "    def predict(self,validation_file,predictions_file):\n",
    "        if self.model_file is None:\n",
    "            print(\"Please fit the model before making predictions\")\n",
    "        else:\n",
    "            if path.exists(validation_file):\n",
    "                if self.xgb_clf is None:\n",
    "                    self.xgb_clf = pickle.load(open(self.model_file,'rb'))\n",
    "                val_df       = pd.read_csv(validation_file,delimiter=':', thousands=',')\n",
    "                fe_df        = self.FeatureEngineering(val_df).drop(['receipt_id'],axis=1)\n",
    "                fe_df_scaled = pd.DataFrame(self.scaler.transform(fe_df),columns=fe_df.columns)\n",
    "                X_test       = fe_df_scaled.loc[:,fe_df_scaled.columns != self.outcome_feature]\n",
    "                y_predict_proba = self.xgb_clf.predict_proba(X_test)[:,1]\n",
    "                val_df['Match_Probability'] = y_predict_proba\n",
    "                val_df = val_df.groupby(['receipt_id']).apply(lambda x: x.sort_values(['Match_Probability'],\n",
    "                                                              ascending=False)).reset_index(drop=True)\n",
    "                val_df.drop(['Match_Probability'],axis=1,inplace=True)\n",
    "                val_df.to_csv(predictions_file,index=False)\n",
    "            else:\n",
    "                print(\"Validation file doesnt exist. Please check again\")"
   ]
  },
  {
   "cell_type": "markdown",
   "metadata": {},
   "source": [
    "Creating dummy test file same as input file for validation, with all columns except for matched_transaction_id"
   ]
  },
  {
   "cell_type": "code",
   "execution_count": 23,
   "metadata": {},
   "outputs": [
    {
     "name": "stdout",
     "output_type": "stream",
     "text": [
      "CPU times: user 124 ms, sys: 13.3 ms, total: 137 ms\n",
      "Wall time: 136 ms\n"
     ]
    }
   ],
   "source": [
    "%%time\n",
    "test_df = pd.read_csv('data.csv',delimiter=':', thousands=',')\n",
    "test_df.drop(['matched_transaction_id'],axis=1,inplace=True)\n",
    "test_df.to_csv('validation_file.csv',sep=':',index=False)"
   ]
  },
  {
   "cell_type": "markdown",
   "metadata": {},
   "source": [
    "Dry run of the receipt_match module with the validation file created above"
   ]
  },
  {
   "cell_type": "code",
   "execution_count": 24,
   "metadata": {},
   "outputs": [
    {
     "name": "stdout",
     "output_type": "stream",
     "text": [
      "Model Info: XGBClassifier(base_score=0.5, booster='gbtree', colsample_bylevel=1,\n",
      "              colsample_bynode=1, colsample_bytree=1, gamma=0,\n",
      "              learning_rate=0.1, max_delta_step=0, max_depth=10,\n",
      "              min_child_weight=1, missing=None, n_estimators=100, n_jobs=-1,\n",
      "              nthread=None, objective='binary:logistic', random_state=1234,\n",
      "              reg_alpha=0, reg_lambda=1, scale_pos_weight=1, seed=None,\n",
      "              silent=None, subsample=1, verbosity=1)\n",
      "Model Metrics:\n",
      "F1-Score: 0.756 \n",
      "Balanced Accuracy: 0.837 \n",
      "ROC_AUC_Score: 0.983\n",
      "CPU times: user 28.7 s, sys: 586 ms, total: 29.3 s\n",
      "Wall time: 29.7 s\n"
     ]
    }
   ],
   "source": [
    "%%time\n",
    "obj1 = receipt_match(\"data.csv\")\n",
    "obj1.model_stats(0.3)\n",
    "obj1.fit('model_file.pk')\n",
    "obj1.predict('validation_file.csv','predictions.csv')"
   ]
  },
  {
   "cell_type": "markdown",
   "metadata": {},
   "source": [
    "Check Results of prediction if the ordering is appropriate"
   ]
  },
  {
   "cell_type": "code",
   "execution_count": 26,
   "metadata": {},
   "outputs": [
    {
     "data": {
      "text/html": [
       "<div>\n",
       "<style scoped>\n",
       "    .dataframe tbody tr th:only-of-type {\n",
       "        vertical-align: middle;\n",
       "    }\n",
       "\n",
       "    .dataframe tbody tr th {\n",
       "        vertical-align: top;\n",
       "    }\n",
       "\n",
       "    .dataframe thead th {\n",
       "        text-align: right;\n",
       "    }\n",
       "</style>\n",
       "<table border=\"1\" class=\"dataframe\">\n",
       "  <thead>\n",
       "    <tr style=\"text-align: right;\">\n",
       "      <th></th>\n",
       "      <th>receipt_id</th>\n",
       "      <th>company_id</th>\n",
       "      <th>feature_transaction_id</th>\n",
       "      <th>DateMappingMatch</th>\n",
       "      <th>AmountMappingMatch</th>\n",
       "      <th>DescriptionMatch</th>\n",
       "      <th>DifferentPredictedTime</th>\n",
       "      <th>TimeMappingMatch</th>\n",
       "      <th>PredictedNameMatch</th>\n",
       "      <th>ShortNameMatch</th>\n",
       "      <th>DifferentPredictedDate</th>\n",
       "      <th>PredictedAmountMatch</th>\n",
       "      <th>PredictedTimeCloseMatch</th>\n",
       "    </tr>\n",
       "  </thead>\n",
       "  <tbody>\n",
       "    <tr>\n",
       "      <th>12024</th>\n",
       "      <td>50225</td>\n",
       "      <td>50000</td>\n",
       "      <td>50005</td>\n",
       "      <td>0.00</td>\n",
       "      <td>0.0</td>\n",
       "      <td>0.0</td>\n",
       "      <td>1.0</td>\n",
       "      <td>0.0</td>\n",
       "      <td>0.0</td>\n",
       "      <td>0.0</td>\n",
       "      <td>1.0</td>\n",
       "      <td>0.0</td>\n",
       "      <td>0.0</td>\n",
       "    </tr>\n",
       "    <tr>\n",
       "      <th>12025</th>\n",
       "      <td>50225</td>\n",
       "      <td>50000</td>\n",
       "      <td>50003</td>\n",
       "      <td>0.00</td>\n",
       "      <td>0.0</td>\n",
       "      <td>0.0</td>\n",
       "      <td>1.0</td>\n",
       "      <td>0.0</td>\n",
       "      <td>0.0</td>\n",
       "      <td>0.0</td>\n",
       "      <td>1.0</td>\n",
       "      <td>0.0</td>\n",
       "      <td>0.0</td>\n",
       "    </tr>\n",
       "    <tr>\n",
       "      <th>12026</th>\n",
       "      <td>50225</td>\n",
       "      <td>50000</td>\n",
       "      <td>50026</td>\n",
       "      <td>0.00</td>\n",
       "      <td>0.0</td>\n",
       "      <td>0.0</td>\n",
       "      <td>1.0</td>\n",
       "      <td>0.0</td>\n",
       "      <td>0.0</td>\n",
       "      <td>0.0</td>\n",
       "      <td>1.0</td>\n",
       "      <td>0.0</td>\n",
       "      <td>0.0</td>\n",
       "    </tr>\n",
       "    <tr>\n",
       "      <th>12027</th>\n",
       "      <td>50226</td>\n",
       "      <td>50000</td>\n",
       "      <td>50368</td>\n",
       "      <td>0.95</td>\n",
       "      <td>0.0</td>\n",
       "      <td>0.0</td>\n",
       "      <td>1.0</td>\n",
       "      <td>0.0</td>\n",
       "      <td>0.0</td>\n",
       "      <td>0.0</td>\n",
       "      <td>0.0</td>\n",
       "      <td>0.0</td>\n",
       "      <td>1.0</td>\n",
       "    </tr>\n",
       "    <tr>\n",
       "      <th>12028</th>\n",
       "      <td>50226</td>\n",
       "      <td>50000</td>\n",
       "      <td>50074</td>\n",
       "      <td>0.65</td>\n",
       "      <td>0.0</td>\n",
       "      <td>0.0</td>\n",
       "      <td>1.0</td>\n",
       "      <td>0.0</td>\n",
       "      <td>0.0</td>\n",
       "      <td>0.0</td>\n",
       "      <td>0.0</td>\n",
       "      <td>0.0</td>\n",
       "      <td>0.0</td>\n",
       "    </tr>\n",
       "    <tr>\n",
       "      <th>12029</th>\n",
       "      <td>50226</td>\n",
       "      <td>50000</td>\n",
       "      <td>50075</td>\n",
       "      <td>0.65</td>\n",
       "      <td>0.0</td>\n",
       "      <td>0.0</td>\n",
       "      <td>1.0</td>\n",
       "      <td>0.0</td>\n",
       "      <td>0.0</td>\n",
       "      <td>0.0</td>\n",
       "      <td>0.0</td>\n",
       "      <td>0.0</td>\n",
       "      <td>0.0</td>\n",
       "    </tr>\n",
       "    <tr>\n",
       "      <th>12030</th>\n",
       "      <td>50226</td>\n",
       "      <td>50000</td>\n",
       "      <td>50070</td>\n",
       "      <td>0.00</td>\n",
       "      <td>0.0</td>\n",
       "      <td>0.0</td>\n",
       "      <td>1.0</td>\n",
       "      <td>0.0</td>\n",
       "      <td>0.0</td>\n",
       "      <td>0.0</td>\n",
       "      <td>1.0</td>\n",
       "      <td>0.0</td>\n",
       "      <td>0.0</td>\n",
       "    </tr>\n",
       "    <tr>\n",
       "      <th>12031</th>\n",
       "      <td>50226</td>\n",
       "      <td>50000</td>\n",
       "      <td>50072</td>\n",
       "      <td>0.00</td>\n",
       "      <td>0.0</td>\n",
       "      <td>0.0</td>\n",
       "      <td>1.0</td>\n",
       "      <td>0.0</td>\n",
       "      <td>0.0</td>\n",
       "      <td>0.0</td>\n",
       "      <td>1.0</td>\n",
       "      <td>0.0</td>\n",
       "      <td>0.0</td>\n",
       "    </tr>\n",
       "    <tr>\n",
       "      <th>12032</th>\n",
       "      <td>50226</td>\n",
       "      <td>50000</td>\n",
       "      <td>50367</td>\n",
       "      <td>0.00</td>\n",
       "      <td>0.0</td>\n",
       "      <td>0.0</td>\n",
       "      <td>1.0</td>\n",
       "      <td>0.0</td>\n",
       "      <td>0.0</td>\n",
       "      <td>0.0</td>\n",
       "      <td>1.0</td>\n",
       "      <td>0.0</td>\n",
       "      <td>0.0</td>\n",
       "    </tr>\n",
       "    <tr>\n",
       "      <th>12033</th>\n",
       "      <td>50226</td>\n",
       "      <td>50000</td>\n",
       "      <td>50366</td>\n",
       "      <td>0.00</td>\n",
       "      <td>0.0</td>\n",
       "      <td>0.0</td>\n",
       "      <td>1.0</td>\n",
       "      <td>0.0</td>\n",
       "      <td>0.0</td>\n",
       "      <td>0.0</td>\n",
       "      <td>1.0</td>\n",
       "      <td>0.0</td>\n",
       "      <td>1.0</td>\n",
       "    </tr>\n",
       "  </tbody>\n",
       "</table>\n",
       "</div>"
      ],
      "text/plain": [
       "       receipt_id  company_id  feature_transaction_id  DateMappingMatch  \\\n",
       "12024       50225       50000                   50005              0.00   \n",
       "12025       50225       50000                   50003              0.00   \n",
       "12026       50225       50000                   50026              0.00   \n",
       "12027       50226       50000                   50368              0.95   \n",
       "12028       50226       50000                   50074              0.65   \n",
       "12029       50226       50000                   50075              0.65   \n",
       "12030       50226       50000                   50070              0.00   \n",
       "12031       50226       50000                   50072              0.00   \n",
       "12032       50226       50000                   50367              0.00   \n",
       "12033       50226       50000                   50366              0.00   \n",
       "\n",
       "       AmountMappingMatch  DescriptionMatch  DifferentPredictedTime  \\\n",
       "12024                 0.0               0.0                     1.0   \n",
       "12025                 0.0               0.0                     1.0   \n",
       "12026                 0.0               0.0                     1.0   \n",
       "12027                 0.0               0.0                     1.0   \n",
       "12028                 0.0               0.0                     1.0   \n",
       "12029                 0.0               0.0                     1.0   \n",
       "12030                 0.0               0.0                     1.0   \n",
       "12031                 0.0               0.0                     1.0   \n",
       "12032                 0.0               0.0                     1.0   \n",
       "12033                 0.0               0.0                     1.0   \n",
       "\n",
       "       TimeMappingMatch  PredictedNameMatch  ShortNameMatch  \\\n",
       "12024               0.0                 0.0             0.0   \n",
       "12025               0.0                 0.0             0.0   \n",
       "12026               0.0                 0.0             0.0   \n",
       "12027               0.0                 0.0             0.0   \n",
       "12028               0.0                 0.0             0.0   \n",
       "12029               0.0                 0.0             0.0   \n",
       "12030               0.0                 0.0             0.0   \n",
       "12031               0.0                 0.0             0.0   \n",
       "12032               0.0                 0.0             0.0   \n",
       "12033               0.0                 0.0             0.0   \n",
       "\n",
       "       DifferentPredictedDate  PredictedAmountMatch  PredictedTimeCloseMatch  \n",
       "12024                     1.0                   0.0                      0.0  \n",
       "12025                     1.0                   0.0                      0.0  \n",
       "12026                     1.0                   0.0                      0.0  \n",
       "12027                     0.0                   0.0                      1.0  \n",
       "12028                     0.0                   0.0                      0.0  \n",
       "12029                     0.0                   0.0                      0.0  \n",
       "12030                     1.0                   0.0                      0.0  \n",
       "12031                     1.0                   0.0                      0.0  \n",
       "12032                     1.0                   0.0                      0.0  \n",
       "12033                     1.0                   0.0                      1.0  "
      ]
     },
     "execution_count": 26,
     "metadata": {},
     "output_type": "execute_result"
    }
   ],
   "source": [
    "predictions_df = pd.read_csv('predictions.csv')\n",
    "predictions_df.tail(10)"
   ]
  },
  {
   "cell_type": "code",
   "execution_count": null,
   "metadata": {},
   "outputs": [],
   "source": []
  }
 ],
 "metadata": {
  "kernelspec": {
   "display_name": "Python 3",
   "language": "python",
   "name": "python3"
  },
  "language_info": {
   "codemirror_mode": {
    "name": "ipython",
    "version": 3
   },
   "file_extension": ".py",
   "mimetype": "text/x-python",
   "name": "python",
   "nbconvert_exporter": "python",
   "pygments_lexer": "ipython3",
   "version": "3.7.1"
  }
 },
 "nbformat": 4,
 "nbformat_minor": 2
}
